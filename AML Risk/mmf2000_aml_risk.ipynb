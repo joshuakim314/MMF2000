{
 "cells": [
  {
   "cell_type": "code",
   "execution_count": 10,
   "metadata": {},
   "outputs": [],
   "source": [
    "import pandas as pd\n",
    "import numpy as np\n",
    "from sklearn.model_selection import train_test_split\n",
    "from sklearn.ensemble import RandomForestClassifier"
   ]
  },
  {
   "cell_type": "code",
   "execution_count": 15,
   "metadata": {},
   "outputs": [],
   "source": [
    "df = pd.read_excel(\"AML and ATF Modelling Assignment data_std.xlsx\", sheet_name=\"data\")\n",
    "df.drop(columns=[\"cust_id_masked\"], inplace=True)\n",
    "\n",
    "X = df.drop(columns=[\"rating\"]).to_numpy()\n",
    "y = df[\"rating\"].to_numpy()\n",
    "X_train, X_test, y_train, y_test = train_test_split(X, y, stratify=y, test_size=0.2, random_state=2000)"
   ]
  },
  {
   "cell_type": "code",
   "execution_count": null,
   "metadata": {},
   "outputs": [],
   "source": [
    "rf = RandomForestClassifier(self.criterion = \"gini\"\n",
    "        self.max_depth = None\n",
    "        self.min_samples_split = 2\n",
    "        self.min_samples_leaf = 1\n",
    "        self.max_features = \"auto\"\n",
    "        self.bootstrap = True\n",
    "        self.oob_score = False\n",
    ")\n",
    "rf.fit(X, y)\n"
   ]
  }
 ],
 "metadata": {
  "kernelspec": {
   "display_name": "Python 3.8.0 ('venv': venv)",
   "language": "python",
   "name": "python3"
  },
  "language_info": {
   "codemirror_mode": {
    "name": "ipython",
    "version": 3
   },
   "file_extension": ".py",
   "mimetype": "text/x-python",
   "name": "python",
   "nbconvert_exporter": "python",
   "pygments_lexer": "ipython3",
   "version": "3.8.0"
  },
  "orig_nbformat": 4,
  "vscode": {
   "interpreter": {
    "hash": "2bf7c8caa9366e3151ec275a307dc0eb66233de3b49224bcd876d00fdc2d5448"
   }
  }
 },
 "nbformat": 4,
 "nbformat_minor": 2
}
